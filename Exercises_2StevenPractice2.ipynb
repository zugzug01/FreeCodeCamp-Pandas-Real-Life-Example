{
  "cells": [
    {
      "cell_type": "markdown",
      "metadata": {
        "id": "view-in-github",
        "colab_type": "text"
      },
      "source": [
        "<a href=\"https://colab.research.google.com/github/zugzug01/FreeCodeCamp-Pandas-Real-Life-Example/blob/master/Exercises_2StevenPractice2.ipynb\" target=\"_parent\"><img src=\"https://colab.research.google.com/assets/colab-badge.svg\" alt=\"Open In Colab\"/></a>"
      ]
    },
    {
      "cell_type": "markdown",
      "metadata": {
        "id": "NvGab4Fk7r8f"
      },
      "source": [
        "![rmotr](https://user-images.githubusercontent.com/7065401/52071918-bda15380-2562-11e9-828c-7f95297e4a82.png)\n",
        "<hr style=\"margin-bottom: 40px;\">\n",
        "\n",
        "# Exercises\n",
        "## The Sakila Database\n",
        "\n",
        "One of the best example databases out there is the <a href=\"https://dev.mysql.com/doc/sakila/en/\">Sakila Database</a>, which was originally created by MySQL and has been open sourced under the terms of the BSD License.\n",
        "\n",
        "The Sakila database is a nicely normalised schema modelling a DVD rental store, featuring things like films, actors, film-actor relationships, and a central inventory table that connects films, stores, and rentals.\n",
        "\n",
        "<img width=\"1200px\" src=\"https://user-images.githubusercontent.com/7065401/58504872-fa243b00-8161-11e9-85ed-4b7d8d7ce9f7.png\" />"
      ]
    },
    {
      "cell_type": "markdown",
      "metadata": {
        "id": "XUbWlEMx7r8l"
      },
      "source": [
        "![purple-divider](https://user-images.githubusercontent.com/7065401/52071927-c1cd7100-2562-11e9-908a-dde91ba14e59.png)\n",
        "\n",
        "## Hands on! "
      ]
    },
    {
      "cell_type": "code",
      "execution_count": 1,
      "metadata": {
        "id": "xfvKNHx27r8m"
      },
      "outputs": [],
      "source": [
        "import numpy as np\n",
        "import pandas as pd\n",
        "import matplotlib.pyplot as plt\n",
        "import sqlite3\n",
        "\n",
        "%matplotlib inline"
      ]
    },
    {
      "cell_type": "code",
      "execution_count": 2,
      "metadata": {
        "id": "B-hMD48E7r8n"
      },
      "outputs": [],
      "source": [
        "conn = sqlite3.connect('sakila.db')\n",
        "\n",
        "df = pd.read_sql('''\n",
        "    SELECT\n",
        "        rental.rental_id, rental.rental_date, rental.return_date,\n",
        "        customer.last_name AS customer_lastname,\n",
        "        store.store_id,\n",
        "        city.city AS rental_store_city,\n",
        "        film.title AS film_title, film.rental_duration AS film_rental_duration,\n",
        "        film.rental_rate AS film_rental_rate, film.replacement_cost AS film_replacement_cost,\n",
        "        film.rating AS film_rating\n",
        "    FROM rental\n",
        "    INNER JOIN customer ON rental.customer_id == customer.customer_id\n",
        "    INNER JOIN inventory ON rental.inventory_id == inventory.inventory_id\n",
        "    INNER JOIN store ON inventory.store_id == store.store_id\n",
        "    INNER JOIN address ON store.address_id == address.address_id\n",
        "    INNER JOIN city ON address.city_id == city.city_id\n",
        "    INNER JOIN film ON inventory.film_id == film.film_id\n",
        "    ;\n",
        "''', conn, index_col='rental_id', parse_dates=['rental_date', 'return_date'])"
      ]
    },
    {
      "cell_type": "code",
      "execution_count": null,
      "metadata": {
        "id": "oJwI5DSL7r8o"
      },
      "outputs": [],
      "source": [
        "df.head()"
      ]
    },
    {
      "cell_type": "markdown",
      "metadata": {
        "id": "tkTH1QXw7r8o"
      },
      "source": [
        "![green-divider](https://user-images.githubusercontent.com/7065401/52071924-c003ad80-2562-11e9-8297-1c6595f8a7ff.png)\n",
        "\n",
        "### What's the mean of `film_rental_duration`?"
      ]
    },
    {
      "cell_type": "code",
      "execution_count": null,
      "metadata": {
        "id": "qL0yRxND7r8p"
      },
      "outputs": [],
      "source": [
        "# your code goes here\n"
      ]
    },
    {
      "cell_type": "code",
      "execution_count": null,
      "metadata": {
        "cell_type": "solution",
        "id": "SPtYb_1l7r8q"
      },
      "outputs": [],
      "source": [
        "df['film_rental_duration'].mean()"
      ]
    },
    {
      "cell_type": "markdown",
      "metadata": {
        "id": "ImL6YVIO7r8r"
      },
      "source": [
        "![green-divider](https://user-images.githubusercontent.com/7065401/52071924-c003ad80-2562-11e9-8297-1c6595f8a7ff.png)\n",
        "\n",
        "### What's the most common rental duration?\n",
        "\n",
        "Show a <b>bar plot</b> with all the durations."
      ]
    },
    {
      "cell_type": "code",
      "execution_count": null,
      "metadata": {
        "id": "y2Nqk5zr7r8r"
      },
      "outputs": [],
      "source": [
        "# your code goes here\n"
      ]
    },
    {
      "cell_type": "code",
      "execution_count": null,
      "metadata": {
        "cell_type": "solution",
        "id": "Yh9YmL2I7r8s"
      },
      "outputs": [],
      "source": [
        "df['film_rental_duration'].value_counts().plot(kind='bar', figsize=(14,6))"
      ]
    },
    {
      "cell_type": "markdown",
      "metadata": {
        "id": "r3IbZQzr7r8s"
      },
      "source": [
        "![green-divider](https://user-images.githubusercontent.com/7065401/52071924-c003ad80-2562-11e9-8297-1c6595f8a7ff.png)\n",
        "\n",
        "### What is the most common rental rate?\n",
        "\n",
        "- Show a <b>pie plot</b> with all possible rental rates.\n",
        "- Show a <b>bar plot</b> with all possible rental rates.\n",
        "- Which plot you think fits the best in this case? Why?"
      ]
    },
    {
      "cell_type": "code",
      "execution_count": null,
      "metadata": {
        "id": "G8PSlVU07r8s"
      },
      "outputs": [],
      "source": [
        "# your code goes here\n"
      ]
    },
    {
      "cell_type": "code",
      "execution_count": null,
      "metadata": {
        "cell_type": "solution",
        "id": "9UQPmuzp7r8t"
      },
      "outputs": [],
      "source": [
        "df['film_rental_rate'].value_counts().plot(kind='pie', figsize=(6,6))"
      ]
    },
    {
      "cell_type": "code",
      "execution_count": null,
      "metadata": {
        "id": "5Plqf25z7r8t"
      },
      "outputs": [],
      "source": [
        "# your code goes here\n"
      ]
    },
    {
      "cell_type": "code",
      "execution_count": null,
      "metadata": {
        "cell_type": "solution",
        "id": "inH4qQg67r8t"
      },
      "outputs": [],
      "source": [
        "df['film_rental_rate'].value_counts().plot(kind='bar', figsize=(14,6))"
      ]
    },
    {
      "cell_type": "markdown",
      "metadata": {
        "id": "UqYLlHtY7r8u"
      },
      "source": [
        "![green-divider](https://user-images.githubusercontent.com/7065401/52071924-c003ad80-2562-11e9-8297-1c6595f8a7ff.png)\n",
        "\n",
        "### How is the replacement cost distributed?\n",
        "\n",
        "- Show a <b>box plot</b> of the replacement costs.\n",
        "- Show a <b>density plot</b> of the replacement costs.\n",
        "- Add a red line on the <b>mean</b>.\n",
        "- Add a green line on the median <b>median</b>."
      ]
    },
    {
      "cell_type": "code",
      "execution_count": null,
      "metadata": {
        "id": "V7v4zZdZ7r8u"
      },
      "outputs": [],
      "source": [
        "# your code goes here\n"
      ]
    },
    {
      "cell_type": "code",
      "execution_count": null,
      "metadata": {
        "cell_type": "solution",
        "id": "f4WU4SN97r8v"
      },
      "outputs": [],
      "source": [
        "df['film_replacement_cost'].plot(kind='box', vert=False, figsize=(14,6))"
      ]
    },
    {
      "cell_type": "code",
      "execution_count": null,
      "metadata": {
        "id": "0VvMK2co7r8v"
      },
      "outputs": [],
      "source": [
        "# your code goes here\n"
      ]
    },
    {
      "cell_type": "code",
      "execution_count": null,
      "metadata": {
        "cell_type": "solution",
        "id": "bFSZAuUc7r8v"
      },
      "outputs": [],
      "source": [
        "ax = df['film_replacement_cost'].plot(kind='density', figsize=(14,6))\n",
        "ax.axvline(df['film_replacement_cost'].mean(), color='red')\n",
        "ax.axvline(df['film_replacement_cost'].median(), color='green')"
      ]
    },
    {
      "cell_type": "markdown",
      "metadata": {
        "id": "2oL3OZjc7r8w"
      },
      "source": [
        "![green-divider](https://user-images.githubusercontent.com/7065401/52071924-c003ad80-2562-11e9-8297-1c6595f8a7ff.png)\n",
        "\n",
        "### How many films of each rating do we have?\n",
        "\n",
        "- Show the raw count of each film rating.\n",
        "- Show a <b>bar plot</b> with all possible film ratings."
      ]
    },
    {
      "cell_type": "code",
      "execution_count": null,
      "metadata": {
        "id": "LfAgFlQe7r8w"
      },
      "outputs": [],
      "source": [
        "# your code goes here\n"
      ]
    },
    {
      "cell_type": "code",
      "execution_count": null,
      "metadata": {
        "cell_type": "solution",
        "id": "uScS36X27r8w"
      },
      "outputs": [],
      "source": [
        "df['film_rating'].value_counts()"
      ]
    },
    {
      "cell_type": "code",
      "execution_count": null,
      "metadata": {
        "id": "lEPC9Eu87r8w"
      },
      "outputs": [],
      "source": [
        "# your code goes here\n"
      ]
    },
    {
      "cell_type": "code",
      "execution_count": null,
      "metadata": {
        "cell_type": "solution",
        "id": "r4rvaLIW7r8w"
      },
      "outputs": [],
      "source": [
        "df['film_rating'].value_counts().plot(kind='bar', figsize=(14,6))"
      ]
    },
    {
      "cell_type": "markdown",
      "metadata": {
        "id": "z8y6ADIr7r8x"
      },
      "source": [
        "![green-divider](https://user-images.githubusercontent.com/7065401/52071924-c003ad80-2562-11e9-8297-1c6595f8a7ff.png)\n",
        "\n",
        "### Does the film replacement cost vary depending on film rating?\n",
        "\n",
        "In the United States, film classification is a voluntary process with the ratings issued by the Motion Picture Association of America (MPAA) via the Classification and Rating Administration (CARA).\n",
        "\n",
        "- G (General Audiences): All Ages are Admitted.\n",
        "- PG (Parental Guidance Suggested): Some Material May Not Be Suitable for Children.\n",
        "- PG-13 (Parents Strongly Cautioned): Some Material May Be Inappropriate for Children Under 13.\n",
        "- R (Restricted): Under 17 Requires Accompanying Parent or Adult Guardian.\n",
        "- NC-17 (Adults Only): No One 17 and Under Admitted.\n",
        "\n",
        "Show a <b>grouped box plot</b> per film rating with the film replacement costs."
      ]
    },
    {
      "cell_type": "code",
      "execution_count": null,
      "metadata": {
        "id": "GyicigTm7r8x"
      },
      "outputs": [],
      "source": [
        "# your code goes here\n"
      ]
    },
    {
      "cell_type": "code",
      "execution_count": null,
      "metadata": {
        "cell_type": "solution",
        "id": "K8RaFHUk7r8x"
      },
      "outputs": [],
      "source": [
        "df[['film_replacement_cost', 'film_rating']].boxplot(by='film_rating', figsize=(14,6))"
      ]
    },
    {
      "cell_type": "markdown",
      "metadata": {
        "id": "I3rXWPWH7r82"
      },
      "source": [
        "![green-divider](https://user-images.githubusercontent.com/7065401/52071924-c003ad80-2562-11e9-8297-1c6595f8a7ff.png)\n",
        "\n",
        "### Add and calculate a new `rental_days` column\n",
        "\n",
        "This numeric column should have the count of days between `rental_date` and `return_date`."
      ]
    },
    {
      "cell_type": "code",
      "execution_count": null,
      "metadata": {
        "id": "RX0oWzs87r82"
      },
      "outputs": [],
      "source": [
        "# your code goes here\n"
      ]
    },
    {
      "cell_type": "code",
      "execution_count": null,
      "metadata": {
        "cell_type": "solution",
        "id": "kW-Gu_297r82"
      },
      "outputs": [],
      "source": [
        "df['rental_days'] = df[['rental_date', 'return_date']].apply(lambda x: (x[1] - x[0]).days, axis=1)\n",
        "\n",
        "df['rental_days'].head()"
      ]
    },
    {
      "cell_type": "markdown",
      "metadata": {
        "id": "bdOGvh6U7r83"
      },
      "source": [
        "![green-divider](https://user-images.githubusercontent.com/7065401/52071924-c003ad80-2562-11e9-8297-1c6595f8a7ff.png)\n",
        "\n",
        "### Analyze the distribution of `rental_days`\n",
        "\n",
        "- Calculate the mean of `rental_days`.\n",
        "- Show a <b>density (KDE)</b> of `rental_days`."
      ]
    },
    {
      "cell_type": "code",
      "execution_count": null,
      "metadata": {
        "id": "QaRd5lAA7r83"
      },
      "outputs": [],
      "source": [
        "# your code goes here\n"
      ]
    },
    {
      "cell_type": "code",
      "execution_count": null,
      "metadata": {
        "cell_type": "solution",
        "id": "yPwC2cqe7r83"
      },
      "outputs": [],
      "source": [
        "df['rental_days'].mean()"
      ]
    },
    {
      "cell_type": "code",
      "execution_count": null,
      "metadata": {
        "id": "f7uvhwST7r83"
      },
      "outputs": [],
      "source": [
        "# your code goes here\n"
      ]
    },
    {
      "cell_type": "code",
      "execution_count": null,
      "metadata": {
        "cell_type": "solution",
        "id": "P26dL2-h7r83"
      },
      "outputs": [],
      "source": [
        "ax = df['rental_days'].plot(kind='density', figsize=(14,6))\n",
        "ax.axvline(df['rental_days'].mean(), color='red')"
      ]
    },
    {
      "cell_type": "markdown",
      "metadata": {
        "id": "OXuaykfH7r83"
      },
      "source": [
        "![green-divider](https://user-images.githubusercontent.com/7065401/52071924-c003ad80-2562-11e9-8297-1c6595f8a7ff.png)\n",
        "\n",
        "### Add and calculate a new `film_daily_rental_rate` column\n",
        "\n",
        "This value should be the division of `film_rental_rate` by `film_rental_duration`."
      ]
    },
    {
      "cell_type": "code",
      "execution_count": 4,
      "metadata": {
        "colab": {
          "base_uri": "https://localhost:8080/"
        },
        "id": "qcQ9kSwB7r84",
        "outputId": "7fc7323b-c50a-4244-9578-c295140b1cf2"
      },
      "outputs": [
        {
          "output_type": "execute_result",
          "data": {
            "text/plain": [
              "rental_id\n",
              "1    0.427143\n",
              "2    0.427143\n",
              "3    0.427143\n",
              "4    0.165000\n",
              "5    0.598000\n",
              "Name: film_daily_rental_rate, dtype: float64"
            ]
          },
          "metadata": {},
          "execution_count": 4
        }
      ],
      "source": [
        "# your code goes here\n",
        "df['film_daily_rental_rate'] = df['film_rental_rate'] / df['film_rental_duration']\n",
        "df['film_daily_rental_rate'].head()"
      ]
    },
    {
      "cell_type": "code",
      "execution_count": 5,
      "metadata": {
        "cell_type": "solution",
        "colab": {
          "base_uri": "https://localhost:8080/"
        },
        "id": "vEJCEdnn7r84",
        "outputId": "16e79cd4-49a6-4e43-b06e-e00c46e05368"
      },
      "outputs": [
        {
          "output_type": "execute_result",
          "data": {
            "text/plain": [
              "rental_id\n",
              "1    0.427143\n",
              "2    0.427143\n",
              "3    0.427143\n",
              "4    0.165000\n",
              "5    0.598000\n",
              "Name: film_daily_rental_rate, dtype: float64"
            ]
          },
          "metadata": {},
          "execution_count": 5
        }
      ],
      "source": [
        "df['film_daily_rental_rate'] = df['film_rental_rate'] / df['film_rental_duration']\n",
        "\n",
        "df['film_daily_rental_rate'].head()"
      ]
    },
    {
      "cell_type": "markdown",
      "metadata": {
        "id": "Cr_vZXvm7r84"
      },
      "source": [
        "![green-divider](https://user-images.githubusercontent.com/7065401/52071924-c003ad80-2562-11e9-8297-1c6595f8a7ff.png)\n",
        "\n",
        "### Analyze the distribution of `film_daily_rental_rate`\n",
        "\n",
        "- Calculate the mean of `film_daily_rental_rate`.\n",
        "- Show a <b>density (KDE)</b> of `film_daily_rental_rate`."
      ]
    },
    {
      "cell_type": "code",
      "execution_count": 12,
      "metadata": {
        "colab": {
          "base_uri": "https://localhost:8080/",
          "height": 391
        },
        "id": "cilY3CX97r84",
        "outputId": "bcf04060-5974-496c-aaf3-02e11d8a7c58"
      },
      "outputs": [
        {
          "output_type": "execute_result",
          "data": {
            "text/plain": [
              "<matplotlib.lines.Line2D at 0x7fabac2a6550>"
            ]
          },
          "metadata": {},
          "execution_count": 12
        },
        {
          "output_type": "display_data",
          "data": {
            "text/plain": [
              "<Figure size 1008x432 with 1 Axes>"
            ],
            "image/png": "[encoded data removed]"
          },
          "metadata": {
            "needs_background": "light"
          }
        }
      ],
      "source": [
        "# your code goes here\n",
        "df['film_daily_rental_rate'].mean()\n",
        "ax = df['film_daily_rental_rate'].value_counts().plot(kind='density', figsize=(14,6))\n",
        "#ax.axvline(df['film_daily_rental_rate'].mean(). color='red')\n",
        "ax.axvline(df['film_daily_rental_rate'].mean(), color='red')"
      ]
    },
    {
      "cell_type": "code",
      "source": [
        ""
      ],
      "metadata": {
        "id": "01nfME_q86BO"
      },
      "execution_count": null,
      "outputs": []
    },
    {
      "cell_type": "code",
      "execution_count": 13,
      "metadata": {
        "colab": {
          "base_uri": "https://localhost:8080/"
        },
        "outputId": "edcbba63-85df-4a72-dc3b-7d28e5c28183",
        "id": "8XsXzsL-9sQe"
      },
      "outputs": [
        {
          "output_type": "execute_result",
          "data": {
            "text/plain": [
              "0.6458262471655172"
            ]
          },
          "metadata": {},
          "execution_count": 13
        }
      ],
      "source": [
        "# your code goes here\n",
        "df['film_daily_rental_rate'].mean()\n"
      ]
    },
    {
      "cell_type": "code",
      "execution_count": 7,
      "metadata": {
        "cell_type": "solution",
        "colab": {
          "base_uri": "https://localhost:8080/"
        },
        "id": "X-ZtbONo7r84",
        "outputId": "99468f5d-7a8a-4dd8-d679-3f359714735b"
      },
      "outputs": [
        {
          "output_type": "execute_result",
          "data": {
            "text/plain": [
              "0.6458262471655172"
            ]
          },
          "metadata": {},
          "execution_count": 7
        }
      ],
      "source": [
        "df['film_daily_rental_rate'].mean()"
      ]
    },
    {
      "cell_type": "code",
      "execution_count": null,
      "metadata": {
        "id": "k78S6qWw7r84"
      },
      "outputs": [],
      "source": [
        "# your code goes here\n"
      ]
    },
    {
      "cell_type": "code",
      "execution_count": 14,
      "metadata": {
        "cell_type": "solution",
        "colab": {
          "base_uri": "https://localhost:8080/",
          "height": 391
        },
        "id": "rnJCvYvQ7r84",
        "outputId": "1b7b5f33-8ecc-464e-f18f-88425208ae0c"
      },
      "outputs": [
        {
          "output_type": "execute_result",
          "data": {
            "text/plain": [
              "<matplotlib.lines.Line2D at 0x7fabac26a650>"
            ]
          },
          "metadata": {},
          "execution_count": 14
        },
        {
          "output_type": "display_data",
          "data": {
            "text/plain": [
              "<Figure size 1008x432 with 1 Axes>"
            ],
            "image/png": "[encoded data removed]"
          },
          "metadata": {
            "needs_background": "light"
          }
        }
      ],
      "source": [
        "ax = df['film_daily_rental_rate'].plot(kind='density', figsize=(14,6))\n",
        "ax.axvline(df['film_daily_rental_rate'].mean(), color='red')"
      ]
    },
    {
      "cell_type": "markdown",
      "metadata": {
        "id": "GQ1Rx8ZX7r84"
      },
      "source": [
        "![green-divider](https://user-images.githubusercontent.com/7065401/52071924-c003ad80-2562-11e9-8297-1c6595f8a7ff.png)\n",
        "\n",
        "### List 10 films with the lowest daily rental rate"
      ]
    },
    {
      "cell_type": "code",
      "execution_count": 18,
      "metadata": {
        "colab": {
          "base_uri": "https://localhost:8080/",
          "height": 632
        },
        "id": "w9GromAj7r84",
        "outputId": "68e0cbc7-a571-4f62-bc89-43bb4032742d"
      },
      "outputs": [
        {
          "output_type": "execute_result",
          "data": {
            "text/plain": [
              "                  rental_date         return_date customer_lastname  store_id  \\\n",
              "rental_id                                                                       \n",
              "18        2005-05-25 01:10:47 2005-05-31 06:35:47          MARTINEZ         1   \n",
              "37        2005-05-25 04:44:31 2005-05-29 01:03:31             ELROD         2   \n",
              "48        2005-05-25 06:20:46 2005-06-02 05:42:46            CASTRO         1   \n",
              "74        2005-05-25 11:09:48 2005-05-26 12:23:48             TERRY         2   \n",
              "76        2005-05-25 11:30:37 2005-06-03 12:00:37             SMITH         2   \n",
              "87        2005-05-25 13:52:43 2005-05-29 11:12:43            ROBERT         2   \n",
              "117       2005-05-25 19:30:46 2005-05-31 23:59:46            MILLER         2   \n",
              "133       2005-05-25 21:48:30 2005-05-30 00:26:30           GILBERT         1   \n",
              "148       2005-05-26 00:25:23 2005-06-01 19:29:23             BURNS         2   \n",
              "158       2005-05-26 01:27:11 2005-06-03 00:30:11               NGO         1   \n",
              "\n",
              "          rental_store_city            film_title  film_rental_duration  \\\n",
              "rental_id                                                                 \n",
              "18               Lethbridge            ROMAN PUNK                     7   \n",
              "37                Woodridge   BORROWERS BEDAZZLED                     7   \n",
              "48               Lethbridge            GUN BONNIE                     7   \n",
              "74                Woodridge          GREEDY ROOTS                     7   \n",
              "76                Woodridge        PATIENT SISTER                     7   \n",
              "87                Woodridge           GANDHI KWAI                     7   \n",
              "117               Woodridge   VALENTINE VANISHING                     7   \n",
              "133              Lethbridge   BORROWERS BEDAZZLED                     7   \n",
              "148               Woodridge  UNFORGIVEN ZOOLANDER                     7   \n",
              "158              Lethbridge           LIGHTS DEER                     7   \n",
              "\n",
              "           film_rental_rate  film_replacement_cost film_rating  \\\n",
              "rental_id                                                        \n",
              "18                     0.99                  28.99       NC-17   \n",
              "37                     0.99                  22.99           G   \n",
              "48                     0.99                  27.99           G   \n",
              "74                     0.99                  14.99           R   \n",
              "76                     0.99                  29.99       NC-17   \n",
              "87                     0.99                   9.99       PG-13   \n",
              "117                    0.99                   9.99       PG-13   \n",
              "133                    0.99                  22.99           G   \n",
              "148                    0.99                  15.99          PG   \n",
              "158                    0.99                  21.99           R   \n",
              "\n",
              "           film_daily_rental_rate  \n",
              "rental_id                          \n",
              "18                       0.141429  \n",
              "37                       0.141429  \n",
              "48                       0.141429  \n",
              "74                       0.141429  \n",
              "76                       0.141429  \n",
              "87                       0.141429  \n",
              "117                      0.141429  \n",
              "133                      0.141429  \n",
              "148                      0.141429  \n",
              "158                      0.141429  "
            ],
            "text/html": [
              "\n",
              "  <div id=\"df-af5317e3-bc07-492d-b13c-c125d57f9cd9\">\n",
              "    <div class=\"colab-df-container\">\n",
              "      <div>\n",
              "<style scoped>\n",
              "    .dataframe tbody tr th:only-of-type {\n",
              "        vertical-align: middle;\n",
              "    }\n",
              "\n",
              "    .dataframe tbody tr th {\n",
              "        vertical-align: top;\n",
              "    }\n",
              "\n",
              "    .dataframe thead th {\n",
              "        text-align: right;\n",
              "    }\n",
              "</style>\n",
              "<table border=\"1\" class=\"dataframe\">\n",
              "  <thead>\n",
              "    <tr style=\"text-align: right;\">\n",
              "      <th></th>\n",
              "      <th>rental_date</th>\n",
              "      <th>return_date</th>\n",
              "      <th>customer_lastname</th>\n",
              "      <th>store_id</th>\n",
              "      <th>rental_store_city</th>\n",
              "      <th>film_title</th>\n",
              "      <th>film_rental_duration</th>\n",
              "      <th>film_rental_rate</th>\n",
              "      <th>film_replacement_cost</th>\n",
              "      <th>film_rating</th>\n",
              "      <th>film_daily_rental_rate</th>\n",
              "    </tr>\n",
              "    <tr>\n",
              "      <th>rental_id</th>\n",
              "      <th></th>\n",
              "      <th></th>\n",
              "      <th></th>\n",
              "      <th></th>\n",
              "      <th></th>\n",
              "      <th></th>\n",
              "      <th></th>\n",
              "      <th></th>\n",
              "      <th></th>\n",
              "      <th></th>\n",
              "      <th></th>\n",
              "    </tr>\n",
              "  </thead>\n",
              "  <tbody>\n",
              "    <tr>\n",
              "      <th>18</th>\n",
              "      <td>2005-05-25 01:10:47</td>\n",
              "      <td>2005-05-31 06:35:47</td>\n",
              "      <td>MARTINEZ</td>\n",
              "      <td>1</td>\n",
              "      <td>Lethbridge</td>\n",
              "      <td>ROMAN PUNK</td>\n",
              "      <td>7</td>\n",
              "      <td>0.99</td>\n",
              "      <td>28.99</td>\n",
              "      <td>NC-17</td>\n",
              "      <td>0.141429</td>\n",
              "    </tr>\n",
              "    <tr>\n",
              "      <th>37</th>\n",
              "      <td>2005-05-25 04:44:31</td>\n",
              "      <td>2005-05-29 01:03:31</td>\n",
              "      <td>ELROD</td>\n",
              "      <td>2</td>\n",
              "      <td>Woodridge</td>\n",
              "      <td>BORROWERS BEDAZZLED</td>\n",
              "      <td>7</td>\n",
              "      <td>0.99</td>\n",
              "      <td>22.99</td>\n",
              "      <td>G</td>\n",
              "      <td>0.141429</td>\n",
              "    </tr>\n",
              "    <tr>\n",
              "      <th>48</th>\n",
              "      <td>2005-05-25 06:20:46</td>\n",
              "      <td>2005-06-02 05:42:46</td>\n",
              "      <td>CASTRO</td>\n",
              "      <td>1</td>\n",
              "      <td>Lethbridge</td>\n",
              "      <td>GUN BONNIE</td>\n",
              "      <td>7</td>\n",
              "      <td>0.99</td>\n",
              "      <td>27.99</td>\n",
              "      <td>G</td>\n",
              "      <td>0.141429</td>\n",
              "    </tr>\n",
              "    <tr>\n",
              "      <th>74</th>\n",
              "      <td>2005-05-25 11:09:48</td>\n",
              "      <td>2005-05-26 12:23:48</td>\n",
              "      <td>TERRY</td>\n",
              "      <td>2</td>\n",
              "      <td>Woodridge</td>\n",
              "      <td>GREEDY ROOTS</td>\n",
              "      <td>7</td>\n",
              "      <td>0.99</td>\n",
              "      <td>14.99</td>\n",
              "      <td>R</td>\n",
              "      <td>0.141429</td>\n",
              "    </tr>\n",
              "    <tr>\n",
              "      <th>76</th>\n",
              "      <td>2005-05-25 11:30:37</td>\n",
              "      <td>2005-06-03 12:00:37</td>\n",
              "      <td>SMITH</td>\n",
              "      <td>2</td>\n",
              "      <td>Woodridge</td>\n",
              "      <td>PATIENT SISTER</td>\n",
              "      <td>7</td>\n",
              "      <td>0.99</td>\n",
              "      <td>29.99</td>\n",
              "      <td>NC-17</td>\n",
              "      <td>0.141429</td>\n",
              "    </tr>\n",
              "    <tr>\n",
              "      <th>87</th>\n",
              "      <td>2005-05-25 13:52:43</td>\n",
              "      <td>2005-05-29 11:12:43</td>\n",
              "      <td>ROBERT</td>\n",
              "      <td>2</td>\n",
              "      <td>Woodridge</td>\n",
              "      <td>GANDHI KWAI</td>\n",
              "      <td>7</td>\n",
              "      <td>0.99</td>\n",
              "      <td>9.99</td>\n",
              "      <td>PG-13</td>\n",
              "      <td>0.141429</td>\n",
              "    </tr>\n",
              "    <tr>\n",
              "      <th>117</th>\n",
              "      <td>2005-05-25 19:30:46</td>\n",
              "      <td>2005-05-31 23:59:46</td>\n",
              "      <td>MILLER</td>\n",
              "      <td>2</td>\n",
              "      <td>Woodridge</td>\n",
              "      <td>VALENTINE VANISHING</td>\n",
              "      <td>7</td>\n",
              "      <td>0.99</td>\n",
              "      <td>9.99</td>\n",
              "      <td>PG-13</td>\n",
              "      <td>0.141429</td>\n",
              "    </tr>\n",
              "    <tr>\n",
              "      <th>133</th>\n",
              "      <td>2005-05-25 21:48:30</td>\n",
              "      <td>2005-05-30 00:26:30</td>\n",
              "      <td>GILBERT</td>\n",
              "      <td>1</td>\n",
              "      <td>Lethbridge</td>\n",
              "      <td>BORROWERS BEDAZZLED</td>\n",
              "      <td>7</td>\n",
              "      <td>0.99</td>\n",
              "      <td>22.99</td>\n",
              "      <td>G</td>\n",
              "      <td>0.141429</td>\n",
              "    </tr>\n",
              "    <tr>\n",
              "      <th>148</th>\n",
              "      <td>2005-05-26 00:25:23</td>\n",
              "      <td>2005-06-01 19:29:23</td>\n",
              "      <td>BURNS</td>\n",
              "      <td>2</td>\n",
              "      <td>Woodridge</td>\n",
              "      <td>UNFORGIVEN ZOOLANDER</td>\n",
              "      <td>7</td>\n",
              "      <td>0.99</td>\n",
              "      <td>15.99</td>\n",
              "      <td>PG</td>\n",
              "      <td>0.141429</td>\n",
              "    </tr>\n",
              "    <tr>\n",
              "      <th>158</th>\n",
              "      <td>2005-05-26 01:27:11</td>\n",
              "      <td>2005-06-03 00:30:11</td>\n",
              "      <td>NGO</td>\n",
              "      <td>1</td>\n",
              "      <td>Lethbridge</td>\n",
              "      <td>LIGHTS DEER</td>\n",
              "      <td>7</td>\n",
              "      <td>0.99</td>\n",
              "      <td>21.99</td>\n",
              "      <td>R</td>\n",
              "      <td>0.141429</td>\n",
              "    </tr>\n",
              "  </tbody>\n",
              "</table>\n",
              "</div>\n",
              "      <button class=\"colab-df-convert\" onclick=\"convertToInteractive('df-af5317e3-bc07-492d-b13c-c125d57f9cd9')\"\n",
              "              title=\"Convert this dataframe to an interactive table.\"\n",
              "              style=\"display:none;\">\n",
              "        \n",
              "  <svg xmlns=\"http://www.w3.org/2000/svg\" height=\"24px\"viewBox=\"0 0 24 24\"\n",
              "       width=\"24px\">\n",
              "    <path d=\"M0 0h24v24H0V0z\" fill=\"none\"/>\n",
              "    <path d=\"M18.56 5.44l.94 2.06.94-2.06 2.06-.94-2.06-.94-.94-2.06-.94 2.06-2.06.94zm-11 1L8.5 8.5l.94-2.06 2.06-.94-2.06-.94L8.5 2.5l-.94 2.06-2.06.94zm10 10l.94 2.06.94-2.06 2.06-.94-2.06-.94-.94-2.06-.94 2.06-2.06.94z\"/><path d=\"M17.41 7.96l-1.37-1.37c-.4-.4-.92-.59-1.43-.59-.52 0-1.04.2-1.43.59L10.3 9.45l-7.72 7.72c-.78.78-.78 2.05 0 2.83L4 21.41c.39.39.9.59 1.41.59.51 0 1.02-.2 1.41-.59l7.78-7.78 2.81-2.81c.8-.78.8-2.07 0-2.86zM5.41 20L4 18.59l7.72-7.72 1.47 1.35L5.41 20z\"/>\n",
              "  </svg>\n",
              "      </button>\n",
              "      \n",
              "  <style>\n",
              "    .colab-df-container {\n",
              "      display:flex;\n",
              "      flex-wrap:wrap;\n",
              "      gap: 12px;\n",
              "    }\n",
              "\n",
              "    .colab-df-convert {\n",
              "      background-color: #E8F0FE;\n",
              "      border: none;\n",
              "      border-radius: 50%;\n",
              "      cursor: pointer;\n",
              "      display: none;\n",
              "      fill: #1967D2;\n",
              "      height: 32px;\n",
              "      padding: 0 0 0 0;\n",
              "      width: 32px;\n",
              "    }\n",
              "\n",
              "    .colab-df-convert:hover {\n",
              "      background-color: #E2EBFA;\n",
              "      box-shadow: 0px 1px 2px rgba(60, 64, 67, 0.3), 0px 1px 3px 1px rgba(60, 64, 67, 0.15);\n",
              "      fill: #174EA6;\n",
              "    }\n",
              "\n",
              "    [theme=dark] .colab-df-convert {\n",
              "      background-color: #3B4455;\n",
              "      fill: #D2E3FC;\n",
              "    }\n",
              "\n",
              "    [theme=dark] .colab-df-convert:hover {\n",
              "      background-color: #434B5C;\n",
              "      box-shadow: 0px 1px 3px 1px rgba(0, 0, 0, 0.15);\n",
              "      filter: drop-shadow(0px 1px 2px rgba(0, 0, 0, 0.3));\n",
              "      fill: #FFFFFF;\n",
              "    }\n",
              "  </style>\n",
              "\n",
              "      <script>\n",
              "        const buttonEl =\n",
              "          document.querySelector('#df-af5317e3-bc07-492d-b13c-c125d57f9cd9 button.colab-df-convert');\n",
              "        buttonEl.style.display =\n",
              "          google.colab.kernel.accessAllowed ? 'block' : 'none';\n",
              "\n",
              "        async function convertToInteractive(key) {\n",
              "          const element = document.querySelector('#df-af5317e3-bc07-492d-b13c-c125d57f9cd9');\n",
              "          const dataTable =\n",
              "            await google.colab.kernel.invokeFunction('convertToInteractive',\n",
              "                                                     [key], {});\n",
              "          if (!dataTable) return;\n",
              "\n",
              "          const docLinkHtml = 'Like what you see? Visit the ' +\n",
              "            '<a target=\"_blank\" href=https://colab.research.google.com/notebooks/data_table.ipynb>data table notebook</a>'\n",
              "            + ' to learn more about interactive tables.';\n",
              "          element.innerHTML = '';\n",
              "          dataTable['output_type'] = 'display_data';\n",
              "          await google.colab.output.renderOutput(dataTable, element);\n",
              "          const docLink = document.createElement('div');\n",
              "          docLink.innerHTML = docLinkHtml;\n",
              "          element.appendChild(docLink);\n",
              "        }\n",
              "      </script>\n",
              "    </div>\n",
              "  </div>\n",
              "  "
            ]
          },
          "metadata": {},
          "execution_count": 18
        }
      ],
      "source": [
        "# your code goes here\n",
        "df.loc[df['film_daily_rental_rate'] == df['film_daily_rental_rate'].min()].head(10)"
      ]
    },
    {
      "cell_type": "code",
      "execution_count": 16,
      "metadata": {
        "cell_type": "solution",
        "colab": {
          "base_uri": "https://localhost:8080/",
          "height": 632
        },
        "id": "FdcMsVuB7r85",
        "outputId": "219db53c-0632-410d-8a29-340f9c431f41"
      },
      "outputs": [
        {
          "output_type": "execute_result",
          "data": {
            "text/plain": [
              "                  rental_date         return_date customer_lastname  store_id  \\\n",
              "rental_id                                                                       \n",
              "18        2005-05-25 01:10:47 2005-05-31 06:35:47          MARTINEZ         1   \n",
              "37        2005-05-25 04:44:31 2005-05-29 01:03:31             ELROD         2   \n",
              "48        2005-05-25 06:20:46 2005-06-02 05:42:46            CASTRO         1   \n",
              "74        2005-05-25 11:09:48 2005-05-26 12:23:48             TERRY         2   \n",
              "76        2005-05-25 11:30:37 2005-06-03 12:00:37             SMITH         2   \n",
              "87        2005-05-25 13:52:43 2005-05-29 11:12:43            ROBERT         2   \n",
              "117       2005-05-25 19:30:46 2005-05-31 23:59:46            MILLER         2   \n",
              "133       2005-05-25 21:48:30 2005-05-30 00:26:30           GILBERT         1   \n",
              "148       2005-05-26 00:25:23 2005-06-01 19:29:23             BURNS         2   \n",
              "158       2005-05-26 01:27:11 2005-06-03 00:30:11               NGO         1   \n",
              "\n",
              "          rental_store_city            film_title  film_rental_duration  \\\n",
              "rental_id                                                                 \n",
              "18               Lethbridge            ROMAN PUNK                     7   \n",
              "37                Woodridge   BORROWERS BEDAZZLED                     7   \n",
              "48               Lethbridge            GUN BONNIE                     7   \n",
              "74                Woodridge          GREEDY ROOTS                     7   \n",
              "76                Woodridge        PATIENT SISTER                     7   \n",
              "87                Woodridge           GANDHI KWAI                     7   \n",
              "117               Woodridge   VALENTINE VANISHING                     7   \n",
              "133              Lethbridge   BORROWERS BEDAZZLED                     7   \n",
              "148               Woodridge  UNFORGIVEN ZOOLANDER                     7   \n",
              "158              Lethbridge           LIGHTS DEER                     7   \n",
              "\n",
              "           film_rental_rate  film_replacement_cost film_rating  \\\n",
              "rental_id                                                        \n",
              "18                     0.99                  28.99       NC-17   \n",
              "37                     0.99                  22.99           G   \n",
              "48                     0.99                  27.99           G   \n",
              "74                     0.99                  14.99           R   \n",
              "76                     0.99                  29.99       NC-17   \n",
              "87                     0.99                   9.99       PG-13   \n",
              "117                    0.99                   9.99       PG-13   \n",
              "133                    0.99                  22.99           G   \n",
              "148                    0.99                  15.99          PG   \n",
              "158                    0.99                  21.99           R   \n",
              "\n",
              "           film_daily_rental_rate  \n",
              "rental_id                          \n",
              "18                       0.141429  \n",
              "37                       0.141429  \n",
              "48                       0.141429  \n",
              "74                       0.141429  \n",
              "76                       0.141429  \n",
              "87                       0.141429  \n",
              "117                      0.141429  \n",
              "133                      0.141429  \n",
              "148                      0.141429  \n",
              "158                      0.141429  "
            ],
            "text/html": [
              "\n",
              "  <div id=\"df-4e89e07d-950f-4a1d-b07c-0d84a67e625d\">\n",
              "    <div class=\"colab-df-container\">\n",
              "      <div>\n",
              "<style scoped>\n",
              "    .dataframe tbody tr th:only-of-type {\n",
              "        vertical-align: middle;\n",
              "    }\n",
              "\n",
              "    .dataframe tbody tr th {\n",
              "        vertical-align: top;\n",
              "    }\n",
              "\n",
              "    .dataframe thead th {\n",
              "        text-align: right;\n",
              "    }\n",
              "</style>\n",
              "<table border=\"1\" class=\"dataframe\">\n",
              "  <thead>\n",
              "    <tr style=\"text-align: right;\">\n",
              "      <th></th>\n",
              "      <th>rental_date</th>\n",
              "      <th>return_date</th>\n",
              "      <th>customer_lastname</th>\n",
              "      <th>store_id</th>\n",
              "      <th>rental_store_city</th>\n",
              "      <th>film_title</th>\n",
              "      <th>film_rental_duration</th>\n",
              "      <th>film_rental_rate</th>\n",
              "      <th>film_replacement_cost</th>\n",
              "      <th>film_rating</th>\n",
              "      <th>film_daily_rental_rate</th>\n",
              "    </tr>\n",
              "    <tr>\n",
              "      <th>rental_id</th>\n",
              "      <th></th>\n",
              "      <th></th>\n",
              "      <th></th>\n",
              "      <th></th>\n",
              "      <th></th>\n",
              "      <th></th>\n",
              "      <th></th>\n",
              "      <th></th>\n",
              "      <th></th>\n",
              "      <th></th>\n",
              "      <th></th>\n",
              "    </tr>\n",
              "  </thead>\n",
              "  <tbody>\n",
              "    <tr>\n",
              "      <th>18</th>\n",
              "      <td>2005-05-25 01:10:47</td>\n",
              "      <td>2005-05-31 06:35:47</td>\n",
              "      <td>MARTINEZ</td>\n",
              "      <td>1</td>\n",
              "      <td>Lethbridge</td>\n",
              "      <td>ROMAN PUNK</td>\n",
              "      <td>7</td>\n",
              "      <td>0.99</td>\n",
              "      <td>28.99</td>\n",
              "      <td>NC-17</td>\n",
              "      <td>0.141429</td>\n",
              "    </tr>\n",
              "    <tr>\n",
              "      <th>37</th>\n",
              "      <td>2005-05-25 04:44:31</td>\n",
              "      <td>2005-05-29 01:03:31</td>\n",
              "      <td>ELROD</td>\n",
              "      <td>2</td>\n",
              "      <td>Woodridge</td>\n",
              "      <td>BORROWERS BEDAZZLED</td>\n",
              "      <td>7</td>\n",
              "      <td>0.99</td>\n",
              "      <td>22.99</td>\n",
              "      <td>G</td>\n",
              "      <td>0.141429</td>\n",
              "    </tr>\n",
              "    <tr>\n",
              "      <th>48</th>\n",
              "      <td>2005-05-25 06:20:46</td>\n",
              "      <td>2005-06-02 05:42:46</td>\n",
              "      <td>CASTRO</td>\n",
              "      <td>1</td>\n",
              "      <td>Lethbridge</td>\n",
              "      <td>GUN BONNIE</td>\n",
              "      <td>7</td>\n",
              "      <td>0.99</td>\n",
              "      <td>27.99</td>\n",
              "      <td>G</td>\n",
              "      <td>0.141429</td>\n",
              "    </tr>\n",
              "    <tr>\n",
              "      <th>74</th>\n",
              "      <td>2005-05-25 11:09:48</td>\n",
              "      <td>2005-05-26 12:23:48</td>\n",
              "      <td>TERRY</td>\n",
              "      <td>2</td>\n",
              "      <td>Woodridge</td>\n",
              "      <td>GREEDY ROOTS</td>\n",
              "      <td>7</td>\n",
              "      <td>0.99</td>\n",
              "      <td>14.99</td>\n",
              "      <td>R</td>\n",
              "      <td>0.141429</td>\n",
              "    </tr>\n",
              "    <tr>\n",
              "      <th>76</th>\n",
              "      <td>2005-05-25 11:30:37</td>\n",
              "      <td>2005-06-03 12:00:37</td>\n",
              "      <td>SMITH</td>\n",
              "      <td>2</td>\n",
              "      <td>Woodridge</td>\n",
              "      <td>PATIENT SISTER</td>\n",
              "      <td>7</td>\n",
              "      <td>0.99</td>\n",
              "      <td>29.99</td>\n",
              "      <td>NC-17</td>\n",
              "      <td>0.141429</td>\n",
              "    </tr>\n",
              "    <tr>\n",
              "      <th>87</th>\n",
              "      <td>2005-05-25 13:52:43</td>\n",
              "      <td>2005-05-29 11:12:43</td>\n",
              "      <td>ROBERT</td>\n",
              "      <td>2</td>\n",
              "      <td>Woodridge</td>\n",
              "      <td>GANDHI KWAI</td>\n",
              "      <td>7</td>\n",
              "      <td>0.99</td>\n",
              "      <td>9.99</td>\n",
              "      <td>PG-13</td>\n",
              "      <td>0.141429</td>\n",
              "    </tr>\n",
              "    <tr>\n",
              "      <th>117</th>\n",
              "      <td>2005-05-25 19:30:46</td>\n",
              "      <td>2005-05-31 23:59:46</td>\n",
              "      <td>MILLER</td>\n",
              "      <td>2</td>\n",
              "      <td>Woodridge</td>\n",
              "      <td>VALENTINE VANISHING</td>\n",
              "      <td>7</td>\n",
              "      <td>0.99</td>\n",
              "      <td>9.99</td>\n",
              "      <td>PG-13</td>\n",
              "      <td>0.141429</td>\n",
              "    </tr>\n",
              "    <tr>\n",
              "      <th>133</th>\n",
              "      <td>2005-05-25 21:48:30</td>\n",
              "      <td>2005-05-30 00:26:30</td>\n",
              "      <td>GILBERT</td>\n",
              "      <td>1</td>\n",
              "      <td>Lethbridge</td>\n",
              "      <td>BORROWERS BEDAZZLED</td>\n",
              "      <td>7</td>\n",
              "      <td>0.99</td>\n",
              "      <td>22.99</td>\n",
              "      <td>G</td>\n",
              "      <td>0.141429</td>\n",
              "    </tr>\n",
              "    <tr>\n",
              "      <th>148</th>\n",
              "      <td>2005-05-26 00:25:23</td>\n",
              "      <td>2005-06-01 19:29:23</td>\n",
              "      <td>BURNS</td>\n",
              "      <td>2</td>\n",
              "      <td>Woodridge</td>\n",
              "      <td>UNFORGIVEN ZOOLANDER</td>\n",
              "      <td>7</td>\n",
              "      <td>0.99</td>\n",
              "      <td>15.99</td>\n",
              "      <td>PG</td>\n",
              "      <td>0.141429</td>\n",
              "    </tr>\n",
              "    <tr>\n",
              "      <th>158</th>\n",
              "      <td>2005-05-26 01:27:11</td>\n",
              "      <td>2005-06-03 00:30:11</td>\n",
              "      <td>NGO</td>\n",
              "      <td>1</td>\n",
              "      <td>Lethbridge</td>\n",
              "      <td>LIGHTS DEER</td>\n",
              "      <td>7</td>\n",
              "      <td>0.99</td>\n",
              "      <td>21.99</td>\n",
              "      <td>R</td>\n",
              "      <td>0.141429</td>\n",
              "    </tr>\n",
              "  </tbody>\n",
              "</table>\n",
              "</div>\n",
              "      <button class=\"colab-df-convert\" onclick=\"convertToInteractive('df-4e89e07d-950f-4a1d-b07c-0d84a67e625d')\"\n",
              "              title=\"Convert this dataframe to an interactive table.\"\n",
              "              style=\"display:none;\">\n",
              "        \n",
              "  <svg xmlns=\"http://www.w3.org/2000/svg\" height=\"24px\"viewBox=\"0 0 24 24\"\n",
              "       width=\"24px\">\n",
              "    <path d=\"M0 0h24v24H0V0z\" fill=\"none\"/>\n",
              "    <path d=\"M18.56 5.44l.94 2.06.94-2.06 2.06-.94-2.06-.94-.94-2.06-.94 2.06-2.06.94zm-11 1L8.5 8.5l.94-2.06 2.06-.94-2.06-.94L8.5 2.5l-.94 2.06-2.06.94zm10 10l.94 2.06.94-2.06 2.06-.94-2.06-.94-.94-2.06-.94 2.06-2.06.94z\"/><path d=\"M17.41 7.96l-1.37-1.37c-.4-.4-.92-.59-1.43-.59-.52 0-1.04.2-1.43.59L10.3 9.45l-7.72 7.72c-.78.78-.78 2.05 0 2.83L4 21.41c.39.39.9.59 1.41.59.51 0 1.02-.2 1.41-.59l7.78-7.78 2.81-2.81c.8-.78.8-2.07 0-2.86zM5.41 20L4 18.59l7.72-7.72 1.47 1.35L5.41 20z\"/>\n",
              "  </svg>\n",
              "      </button>\n",
              "      \n",
              "  <style>\n",
              "    .colab-df-container {\n",
              "      display:flex;\n",
              "      flex-wrap:wrap;\n",
              "      gap: 12px;\n",
              "    }\n",
              "\n",
              "    .colab-df-convert {\n",
              "      background-color: #E8F0FE;\n",
              "      border: none;\n",
              "      border-radius: 50%;\n",
              "      cursor: pointer;\n",
              "      display: none;\n",
              "      fill: #1967D2;\n",
              "      height: 32px;\n",
              "      padding: 0 0 0 0;\n",
              "      width: 32px;\n",
              "    }\n",
              "\n",
              "    .colab-df-convert:hover {\n",
              "      background-color: #E2EBFA;\n",
              "      box-shadow: 0px 1px 2px rgba(60, 64, 67, 0.3), 0px 1px 3px 1px rgba(60, 64, 67, 0.15);\n",
              "      fill: #174EA6;\n",
              "    }\n",
              "\n",
              "    [theme=dark] .colab-df-convert {\n",
              "      background-color: #3B4455;\n",
              "      fill: #D2E3FC;\n",
              "    }\n",
              "\n",
              "    [theme=dark] .colab-df-convert:hover {\n",
              "      background-color: #434B5C;\n",
              "      box-shadow: 0px 1px 3px 1px rgba(0, 0, 0, 0.15);\n",
              "      filter: drop-shadow(0px 1px 2px rgba(0, 0, 0, 0.3));\n",
              "      fill: #FFFFFF;\n",
              "    }\n",
              "  </style>\n",
              "\n",
              "      <script>\n",
              "        const buttonEl =\n",
              "          document.querySelector('#df-4e89e07d-950f-4a1d-b07c-0d84a67e625d button.colab-df-convert');\n",
              "        buttonEl.style.display =\n",
              "          google.colab.kernel.accessAllowed ? 'block' : 'none';\n",
              "\n",
              "        async function convertToInteractive(key) {\n",
              "          const element = document.querySelector('#df-4e89e07d-950f-4a1d-b07c-0d84a67e625d');\n",
              "          const dataTable =\n",
              "            await google.colab.kernel.invokeFunction('convertToInteractive',\n",
              "                                                     [key], {});\n",
              "          if (!dataTable) return;\n",
              "\n",
              "          const docLinkHtml = 'Like what you see? Visit the ' +\n",
              "            '<a target=\"_blank\" href=https://colab.research.google.com/notebooks/data_table.ipynb>data table notebook</a>'\n",
              "            + ' to learn more about interactive tables.';\n",
              "          element.innerHTML = '';\n",
              "          dataTable['output_type'] = 'display_data';\n",
              "          await google.colab.output.renderOutput(dataTable, element);\n",
              "          const docLink = document.createElement('div');\n",
              "          docLink.innerHTML = docLinkHtml;\n",
              "          element.appendChild(docLink);\n",
              "        }\n",
              "      </script>\n",
              "    </div>\n",
              "  </div>\n",
              "  "
            ]
          },
          "metadata": {},
          "execution_count": 16
        }
      ],
      "source": [
        "df.loc[df['film_daily_rental_rate'] == df['film_daily_rental_rate'].min()].head(10)"
      ]
    },
    {
      "cell_type": "markdown",
      "metadata": {
        "id": "PeEM-KJU7r85"
      },
      "source": [
        "![green-divider](https://user-images.githubusercontent.com/7065401/52071924-c003ad80-2562-11e9-8297-1c6595f8a7ff.png)\n",
        "\n",
        "### List 10 films with the highest daily rental rate"
      ]
    },
    {
      "cell_type": "code",
      "execution_count": 20,
      "metadata": {
        "colab": {
          "base_uri": "https://localhost:8080/",
          "height": 632
        },
        "id": "OR7vEQvd7r85",
        "outputId": "052eb487-da2e-4174-f407-a73be9ed0b87"
      },
      "outputs": [
        {
          "output_type": "execute_result",
          "data": {
            "text/plain": [
              "                  rental_date         return_date customer_lastname  store_id  \\\n",
              "rental_id                                                                       \n",
              "13        2005-05-25 00:22:55 2005-05-30 04:28:55         MCWHORTER         1   \n",
              "40        2005-05-25 05:09:04 2005-05-27 23:12:04               YEE         1   \n",
              "68        2005-05-25 09:47:31 2005-05-31 10:20:31             ORTIZ         2   \n",
              "106       2005-05-25 18:18:19 2005-06-04 00:01:19            AUSTIN         2   \n",
              "116       2005-05-25 19:27:51 2005-05-26 16:23:51            GARCIA         1   \n",
              "124       2005-05-25 20:46:11 2005-05-30 00:47:11           MENDOZA         1   \n",
              "135       2005-05-25 21:58:58 2005-06-03 17:50:58             ROYAL         1   \n",
              "152       2005-05-26 00:41:10 2005-06-03 06:05:10            MORGAN         1   \n",
              "155       2005-05-26 01:15:05 2005-06-01 00:03:05            BARBEE         2   \n",
              "163       2005-05-26 02:26:23 2005-06-04 06:36:23            GRAHAM         1   \n",
              "\n",
              "          rental_store_city           film_title  film_rental_duration  \\\n",
              "rental_id                                                                \n",
              "13               Lethbridge       KING EVOLUTION                     3   \n",
              "40               Lethbridge         MINDS TRUMAN                     3   \n",
              "68                Woodridge          TEEN APOLLO                     3   \n",
              "106               Woodridge            SHOW LORD                     3   \n",
              "116              Lethbridge            WIFE TURN                     3   \n",
              "124              Lethbridge  BACKLASH UNDEFEATED                     3   \n",
              "135              Lethbridge      AMERICAN CIRCUS                     3   \n",
              "152              Lethbridge  MIDSUMMER GROUNDHOG                     3   \n",
              "155               Woodridge     BEHAVIOR RUNAWAY                     3   \n",
              "163              Lethbridge        KISSING DOLLS                     3   \n",
              "\n",
              "           film_rental_rate  film_replacement_cost film_rating  \\\n",
              "rental_id                                                        \n",
              "13                     4.99                  24.99       NC-17   \n",
              "40                     4.99                  22.99       PG-13   \n",
              "68                     4.99                  25.99           G   \n",
              "106                    4.99                  24.99       PG-13   \n",
              "116                    4.99                  27.99       NC-17   \n",
              "124                    4.99                  24.99       PG-13   \n",
              "135                    4.99                  17.99           R   \n",
              "152                    4.99                  27.99           G   \n",
              "155                    4.99                  20.99          PG   \n",
              "163                    4.99                   9.99           R   \n",
              "\n",
              "           film_daily_rental_rate  \n",
              "rental_id                          \n",
              "13                       1.663333  \n",
              "40                       1.663333  \n",
              "68                       1.663333  \n",
              "106                      1.663333  \n",
              "116                      1.663333  \n",
              "124                      1.663333  \n",
              "135                      1.663333  \n",
              "152                      1.663333  \n",
              "155                      1.663333  \n",
              "163                      1.663333  "
            ],
            "text/html": [
              "\n",
              "  <div id=\"df-faf721d0-851c-4b85-bcc3-888996ffa263\">\n",
              "    <div class=\"colab-df-container\">\n",
              "      <div>\n",
              "<style scoped>\n",
              "    .dataframe tbody tr th:only-of-type {\n",
              "        vertical-align: middle;\n",
              "    }\n",
              "\n",
              "    .dataframe tbody tr th {\n",
              "        vertical-align: top;\n",
              "    }\n",
              "\n",
              "    .dataframe thead th {\n",
              "        text-align: right;\n",
              "    }\n",
              "</style>\n",
              "<table border=\"1\" class=\"dataframe\">\n",
              "  <thead>\n",
              "    <tr style=\"text-align: right;\">\n",
              "      <th></th>\n",
              "      <th>rental_date</th>\n",
              "      <th>return_date</th>\n",
              "      <th>customer_lastname</th>\n",
              "      <th>store_id</th>\n",
              "      <th>rental_store_city</th>\n",
              "      <th>film_title</th>\n",
              "      <th>film_rental_duration</th>\n",
              "      <th>film_rental_rate</th>\n",
              "      <th>film_replacement_cost</th>\n",
              "      <th>film_rating</th>\n",
              "      <th>film_daily_rental_rate</th>\n",
              "    </tr>\n",
              "    <tr>\n",
              "      <th>rental_id</th>\n",
              "      <th></th>\n",
              "      <th></th>\n",
              "      <th></th>\n",
              "      <th></th>\n",
              "      <th></th>\n",
              "      <th></th>\n",
              "      <th></th>\n",
              "      <th></th>\n",
              "      <th></th>\n",
              "      <th></th>\n",
              "      <th></th>\n",
              "    </tr>\n",
              "  </thead>\n",
              "  <tbody>\n",
              "    <tr>\n",
              "      <th>13</th>\n",
              "      <td>2005-05-25 00:22:55</td>\n",
              "      <td>2005-05-30 04:28:55</td>\n",
              "      <td>MCWHORTER</td>\n",
              "      <td>1</td>\n",
              "      <td>Lethbridge</td>\n",
              "      <td>KING EVOLUTION</td>\n",
              "      <td>3</td>\n",
              "      <td>4.99</td>\n",
              "      <td>24.99</td>\n",
              "      <td>NC-17</td>\n",
              "      <td>1.663333</td>\n",
              "    </tr>\n",
              "    <tr>\n",
              "      <th>40</th>\n",
              "      <td>2005-05-25 05:09:04</td>\n",
              "      <td>2005-05-27 23:12:04</td>\n",
              "      <td>YEE</td>\n",
              "      <td>1</td>\n",
              "      <td>Lethbridge</td>\n",
              "      <td>MINDS TRUMAN</td>\n",
              "      <td>3</td>\n",
              "      <td>4.99</td>\n",
              "      <td>22.99</td>\n",
              "      <td>PG-13</td>\n",
              "      <td>1.663333</td>\n",
              "    </tr>\n",
              "    <tr>\n",
              "      <th>68</th>\n",
              "      <td>2005-05-25 09:47:31</td>\n",
              "      <td>2005-05-31 10:20:31</td>\n",
              "      <td>ORTIZ</td>\n",
              "      <td>2</td>\n",
              "      <td>Woodridge</td>\n",
              "      <td>TEEN APOLLO</td>\n",
              "      <td>3</td>\n",
              "      <td>4.99</td>\n",
              "      <td>25.99</td>\n",
              "      <td>G</td>\n",
              "      <td>1.663333</td>\n",
              "    </tr>\n",
              "    <tr>\n",
              "      <th>106</th>\n",
              "      <td>2005-05-25 18:18:19</td>\n",
              "      <td>2005-06-04 00:01:19</td>\n",
              "      <td>AUSTIN</td>\n",
              "      <td>2</td>\n",
              "      <td>Woodridge</td>\n",
              "      <td>SHOW LORD</td>\n",
              "      <td>3</td>\n",
              "      <td>4.99</td>\n",
              "      <td>24.99</td>\n",
              "      <td>PG-13</td>\n",
              "      <td>1.663333</td>\n",
              "    </tr>\n",
              "    <tr>\n",
              "      <th>116</th>\n",
              "      <td>2005-05-25 19:27:51</td>\n",
              "      <td>2005-05-26 16:23:51</td>\n",
              "      <td>GARCIA</td>\n",
              "      <td>1</td>\n",
              "      <td>Lethbridge</td>\n",
              "      <td>WIFE TURN</td>\n",
              "      <td>3</td>\n",
              "      <td>4.99</td>\n",
              "      <td>27.99</td>\n",
              "      <td>NC-17</td>\n",
              "      <td>1.663333</td>\n",
              "    </tr>\n",
              "    <tr>\n",
              "      <th>124</th>\n",
              "      <td>2005-05-25 20:46:11</td>\n",
              "      <td>2005-05-30 00:47:11</td>\n",
              "      <td>MENDOZA</td>\n",
              "      <td>1</td>\n",
              "      <td>Lethbridge</td>\n",
              "      <td>BACKLASH UNDEFEATED</td>\n",
              "      <td>3</td>\n",
              "      <td>4.99</td>\n",
              "      <td>24.99</td>\n",
              "      <td>PG-13</td>\n",
              "      <td>1.663333</td>\n",
              "    </tr>\n",
              "    <tr>\n",
              "      <th>135</th>\n",
              "      <td>2005-05-25 21:58:58</td>\n",
              "      <td>2005-06-03 17:50:58</td>\n",
              "      <td>ROYAL</td>\n",
              "      <td>1</td>\n",
              "      <td>Lethbridge</td>\n",
              "      <td>AMERICAN CIRCUS</td>\n",
              "      <td>3</td>\n",
              "      <td>4.99</td>\n",
              "      <td>17.99</td>\n",
              "      <td>R</td>\n",
              "      <td>1.663333</td>\n",
              "    </tr>\n",
              "    <tr>\n",
              "      <th>152</th>\n",
              "      <td>2005-05-26 00:41:10</td>\n",
              "      <td>2005-06-03 06:05:10</td>\n",
              "      <td>MORGAN</td>\n",
              "      <td>1</td>\n",
              "      <td>Lethbridge</td>\n",
              "      <td>MIDSUMMER GROUNDHOG</td>\n",
              "      <td>3</td>\n",
              "      <td>4.99</td>\n",
              "      <td>27.99</td>\n",
              "      <td>G</td>\n",
              "      <td>1.663333</td>\n",
              "    </tr>\n",
              "    <tr>\n",
              "      <th>155</th>\n",
              "      <td>2005-05-26 01:15:05</td>\n",
              "      <td>2005-06-01 00:03:05</td>\n",
              "      <td>BARBEE</td>\n",
              "      <td>2</td>\n",
              "      <td>Woodridge</td>\n",
              "      <td>BEHAVIOR RUNAWAY</td>\n",
              "      <td>3</td>\n",
              "      <td>4.99</td>\n",
              "      <td>20.99</td>\n",
              "      <td>PG</td>\n",
              "      <td>1.663333</td>\n",
              "    </tr>\n",
              "    <tr>\n",
              "      <th>163</th>\n",
              "      <td>2005-05-26 02:26:23</td>\n",
              "      <td>2005-06-04 06:36:23</td>\n",
              "      <td>GRAHAM</td>\n",
              "      <td>1</td>\n",
              "      <td>Lethbridge</td>\n",
              "      <td>KISSING DOLLS</td>\n",
              "      <td>3</td>\n",
              "      <td>4.99</td>\n",
              "      <td>9.99</td>\n",
              "      <td>R</td>\n",
              "      <td>1.663333</td>\n",
              "    </tr>\n",
              "  </tbody>\n",
              "</table>\n",
              "</div>\n",
              "      <button class=\"colab-df-convert\" onclick=\"convertToInteractive('df-faf721d0-851c-4b85-bcc3-888996ffa263')\"\n",
              "              title=\"Convert this dataframe to an interactive table.\"\n",
              "              style=\"display:none;\">\n",
              "        \n",
              "  <svg xmlns=\"http://www.w3.org/2000/svg\" height=\"24px\"viewBox=\"0 0 24 24\"\n",
              "       width=\"24px\">\n",
              "    <path d=\"M0 0h24v24H0V0z\" fill=\"none\"/>\n",
              "    <path d=\"M18.56 5.44l.94 2.06.94-2.06 2.06-.94-2.06-.94-.94-2.06-.94 2.06-2.06.94zm-11 1L8.5 8.5l.94-2.06 2.06-.94-2.06-.94L8.5 2.5l-.94 2.06-2.06.94zm10 10l.94 2.06.94-2.06 2.06-.94-2.06-.94-.94-2.06-.94 2.06-2.06.94z\"/><path d=\"M17.41 7.96l-1.37-1.37c-.4-.4-.92-.59-1.43-.59-.52 0-1.04.2-1.43.59L10.3 9.45l-7.72 7.72c-.78.78-.78 2.05 0 2.83L4 21.41c.39.39.9.59 1.41.59.51 0 1.02-.2 1.41-.59l7.78-7.78 2.81-2.81c.8-.78.8-2.07 0-2.86zM5.41 20L4 18.59l7.72-7.72 1.47 1.35L5.41 20z\"/>\n",
              "  </svg>\n",
              "      </button>\n",
              "      \n",
              "  <style>\n",
              "    .colab-df-container {\n",
              "      display:flex;\n",
              "      flex-wrap:wrap;\n",
              "      gap: 12px;\n",
              "    }\n",
              "\n",
              "    .colab-df-convert {\n",
              "      background-color: #E8F0FE;\n",
              "      border: none;\n",
              "      border-radius: 50%;\n",
              "      cursor: pointer;\n",
              "      display: none;\n",
              "      fill: #1967D2;\n",
              "      height: 32px;\n",
              "      padding: 0 0 0 0;\n",
              "      width: 32px;\n",
              "    }\n",
              "\n",
              "    .colab-df-convert:hover {\n",
              "      background-color: #E2EBFA;\n",
              "      box-shadow: 0px 1px 2px rgba(60, 64, 67, 0.3), 0px 1px 3px 1px rgba(60, 64, 67, 0.15);\n",
              "      fill: #174EA6;\n",
              "    }\n",
              "\n",
              "    [theme=dark] .colab-df-convert {\n",
              "      background-color: #3B4455;\n",
              "      fill: #D2E3FC;\n",
              "    }\n",
              "\n",
              "    [theme=dark] .colab-df-convert:hover {\n",
              "      background-color: #434B5C;\n",
              "      box-shadow: 0px 1px 3px 1px rgba(0, 0, 0, 0.15);\n",
              "      filter: drop-shadow(0px 1px 2px rgba(0, 0, 0, 0.3));\n",
              "      fill: #FFFFFF;\n",
              "    }\n",
              "  </style>\n",
              "\n",
              "      <script>\n",
              "        const buttonEl =\n",
              "          document.querySelector('#df-faf721d0-851c-4b85-bcc3-888996ffa263 button.colab-df-convert');\n",
              "        buttonEl.style.display =\n",
              "          google.colab.kernel.accessAllowed ? 'block' : 'none';\n",
              "\n",
              "        async function convertToInteractive(key) {\n",
              "          const element = document.querySelector('#df-faf721d0-851c-4b85-bcc3-888996ffa263');\n",
              "          const dataTable =\n",
              "            await google.colab.kernel.invokeFunction('convertToInteractive',\n",
              "                                                     [key], {});\n",
              "          if (!dataTable) return;\n",
              "\n",
              "          const docLinkHtml = 'Like what you see? Visit the ' +\n",
              "            '<a target=\"_blank\" href=https://colab.research.google.com/notebooks/data_table.ipynb>data table notebook</a>'\n",
              "            + ' to learn more about interactive tables.';\n",
              "          element.innerHTML = '';\n",
              "          dataTable['output_type'] = 'display_data';\n",
              "          await google.colab.output.renderOutput(dataTable, element);\n",
              "          const docLink = document.createElement('div');\n",
              "          docLink.innerHTML = docLinkHtml;\n",
              "          element.appendChild(docLink);\n",
              "        }\n",
              "      </script>\n",
              "    </div>\n",
              "  </div>\n",
              "  "
            ]
          },
          "metadata": {},
          "execution_count": 20
        }
      ],
      "source": [
        "# your code goes here\n",
        "df.loc[df['film_daily_rental_rate'] == df['film_daily_rental_rate'].max()].head(10)"
      ]
    },
    {
      "cell_type": "code",
      "execution_count": 21,
      "metadata": {
        "cell_type": "solution",
        "colab": {
          "base_uri": "https://localhost:8080/",
          "height": 632
        },
        "id": "6C4c5gDv7r85",
        "outputId": "54839b56-8502-43c8-b9bb-ba80a6461a77"
      },
      "outputs": [
        {
          "output_type": "execute_result",
          "data": {
            "text/plain": [
              "                  rental_date         return_date customer_lastname  store_id  \\\n",
              "rental_id                                                                       \n",
              "13        2005-05-25 00:22:55 2005-05-30 04:28:55         MCWHORTER         1   \n",
              "40        2005-05-25 05:09:04 2005-05-27 23:12:04               YEE         1   \n",
              "68        2005-05-25 09:47:31 2005-05-31 10:20:31             ORTIZ         2   \n",
              "106       2005-05-25 18:18:19 2005-06-04 00:01:19            AUSTIN         2   \n",
              "116       2005-05-25 19:27:51 2005-05-26 16:23:51            GARCIA         1   \n",
              "124       2005-05-25 20:46:11 2005-05-30 00:47:11           MENDOZA         1   \n",
              "135       2005-05-25 21:58:58 2005-06-03 17:50:58             ROYAL         1   \n",
              "152       2005-05-26 00:41:10 2005-06-03 06:05:10            MORGAN         1   \n",
              "155       2005-05-26 01:15:05 2005-06-01 00:03:05            BARBEE         2   \n",
              "163       2005-05-26 02:26:23 2005-06-04 06:36:23            GRAHAM         1   \n",
              "\n",
              "          rental_store_city           film_title  film_rental_duration  \\\n",
              "rental_id                                                                \n",
              "13               Lethbridge       KING EVOLUTION                     3   \n",
              "40               Lethbridge         MINDS TRUMAN                     3   \n",
              "68                Woodridge          TEEN APOLLO                     3   \n",
              "106               Woodridge            SHOW LORD                     3   \n",
              "116              Lethbridge            WIFE TURN                     3   \n",
              "124              Lethbridge  BACKLASH UNDEFEATED                     3   \n",
              "135              Lethbridge      AMERICAN CIRCUS                     3   \n",
              "152              Lethbridge  MIDSUMMER GROUNDHOG                     3   \n",
              "155               Woodridge     BEHAVIOR RUNAWAY                     3   \n",
              "163              Lethbridge        KISSING DOLLS                     3   \n",
              "\n",
              "           film_rental_rate  film_replacement_cost film_rating  \\\n",
              "rental_id                                                        \n",
              "13                     4.99                  24.99       NC-17   \n",
              "40                     4.99                  22.99       PG-13   \n",
              "68                     4.99                  25.99           G   \n",
              "106                    4.99                  24.99       PG-13   \n",
              "116                    4.99                  27.99       NC-17   \n",
              "124                    4.99                  24.99       PG-13   \n",
              "135                    4.99                  17.99           R   \n",
              "152                    4.99                  27.99           G   \n",
              "155                    4.99                  20.99          PG   \n",
              "163                    4.99                   9.99           R   \n",
              "\n",
              "           film_daily_rental_rate  \n",
              "rental_id                          \n",
              "13                       1.663333  \n",
              "40                       1.663333  \n",
              "68                       1.663333  \n",
              "106                      1.663333  \n",
              "116                      1.663333  \n",
              "124                      1.663333  \n",
              "135                      1.663333  \n",
              "152                      1.663333  \n",
              "155                      1.663333  \n",
              "163                      1.663333  "
            ],
            "text/html": [
              "\n",
              "  <div id=\"df-532abffa-7f45-495b-83ce-cd5398f1a59c\">\n",
              "    <div class=\"colab-df-container\">\n",
              "      <div>\n",
              "<style scoped>\n",
              "    .dataframe tbody tr th:only-of-type {\n",
              "        vertical-align: middle;\n",
              "    }\n",
              "\n",
              "    .dataframe tbody tr th {\n",
              "        vertical-align: top;\n",
              "    }\n",
              "\n",
              "    .dataframe thead th {\n",
              "        text-align: right;\n",
              "    }\n",
              "</style>\n",
              "<table border=\"1\" class=\"dataframe\">\n",
              "  <thead>\n",
              "    <tr style=\"text-align: right;\">\n",
              "      <th></th>\n",
              "      <th>rental_date</th>\n",
              "      <th>return_date</th>\n",
              "      <th>customer_lastname</th>\n",
              "      <th>store_id</th>\n",
              "      <th>rental_store_city</th>\n",
              "      <th>film_title</th>\n",
              "      <th>film_rental_duration</th>\n",
              "      <th>film_rental_rate</th>\n",
              "      <th>film_replacement_cost</th>\n",
              "      <th>film_rating</th>\n",
              "      <th>film_daily_rental_rate</th>\n",
              "    </tr>\n",
              "    <tr>\n",
              "      <th>rental_id</th>\n",
              "      <th></th>\n",
              "      <th></th>\n",
              "      <th></th>\n",
              "      <th></th>\n",
              "      <th></th>\n",
              "      <th></th>\n",
              "      <th></th>\n",
              "      <th></th>\n",
              "      <th></th>\n",
              "      <th></th>\n",
              "      <th></th>\n",
              "    </tr>\n",
              "  </thead>\n",
              "  <tbody>\n",
              "    <tr>\n",
              "      <th>13</th>\n",
              "      <td>2005-05-25 00:22:55</td>\n",
              "      <td>2005-05-30 04:28:55</td>\n",
              "      <td>MCWHORTER</td>\n",
              "      <td>1</td>\n",
              "      <td>Lethbridge</td>\n",
              "      <td>KING EVOLUTION</td>\n",
              "      <td>3</td>\n",
              "      <td>4.99</td>\n",
              "      <td>24.99</td>\n",
              "      <td>NC-17</td>\n",
              "      <td>1.663333</td>\n",
              "    </tr>\n",
              "    <tr>\n",
              "      <th>40</th>\n",
              "      <td>2005-05-25 05:09:04</td>\n",
              "      <td>2005-05-27 23:12:04</td>\n",
              "      <td>YEE</td>\n",
              "      <td>1</td>\n",
              "      <td>Lethbridge</td>\n",
              "      <td>MINDS TRUMAN</td>\n",
              "      <td>3</td>\n",
              "      <td>4.99</td>\n",
              "      <td>22.99</td>\n",
              "      <td>PG-13</td>\n",
              "      <td>1.663333</td>\n",
              "    </tr>\n",
              "    <tr>\n",
              "      <th>68</th>\n",
              "      <td>2005-05-25 09:47:31</td>\n",
              "      <td>2005-05-31 10:20:31</td>\n",
              "      <td>ORTIZ</td>\n",
              "      <td>2</td>\n",
              "      <td>Woodridge</td>\n",
              "      <td>TEEN APOLLO</td>\n",
              "      <td>3</td>\n",
              "      <td>4.99</td>\n",
              "      <td>25.99</td>\n",
              "      <td>G</td>\n",
              "      <td>1.663333</td>\n",
              "    </tr>\n",
              "    <tr>\n",
              "      <th>106</th>\n",
              "      <td>2005-05-25 18:18:19</td>\n",
              "      <td>2005-06-04 00:01:19</td>\n",
              "      <td>AUSTIN</td>\n",
              "      <td>2</td>\n",
              "      <td>Woodridge</td>\n",
              "      <td>SHOW LORD</td>\n",
              "      <td>3</td>\n",
              "      <td>4.99</td>\n",
              "      <td>24.99</td>\n",
              "      <td>PG-13</td>\n",
              "      <td>1.663333</td>\n",
              "    </tr>\n",
              "    <tr>\n",
              "      <th>116</th>\n",
              "      <td>2005-05-25 19:27:51</td>\n",
              "      <td>2005-05-26 16:23:51</td>\n",
              "      <td>GARCIA</td>\n",
              "      <td>1</td>\n",
              "      <td>Lethbridge</td>\n",
              "      <td>WIFE TURN</td>\n",
              "      <td>3</td>\n",
              "      <td>4.99</td>\n",
              "      <td>27.99</td>\n",
              "      <td>NC-17</td>\n",
              "      <td>1.663333</td>\n",
              "    </tr>\n",
              "    <tr>\n",
              "      <th>124</th>\n",
              "      <td>2005-05-25 20:46:11</td>\n",
              "      <td>2005-05-30 00:47:11</td>\n",
              "      <td>MENDOZA</td>\n",
              "      <td>1</td>\n",
              "      <td>Lethbridge</td>\n",
              "      <td>BACKLASH UNDEFEATED</td>\n",
              "      <td>3</td>\n",
              "      <td>4.99</td>\n",
              "      <td>24.99</td>\n",
              "      <td>PG-13</td>\n",
              "      <td>1.663333</td>\n",
              "    </tr>\n",
              "    <tr>\n",
              "      <th>135</th>\n",
              "      <td>2005-05-25 21:58:58</td>\n",
              "      <td>2005-06-03 17:50:58</td>\n",
              "      <td>ROYAL</td>\n",
              "      <td>1</td>\n",
              "      <td>Lethbridge</td>\n",
              "      <td>AMERICAN CIRCUS</td>\n",
              "      <td>3</td>\n",
              "      <td>4.99</td>\n",
              "      <td>17.99</td>\n",
              "      <td>R</td>\n",
              "      <td>1.663333</td>\n",
              "    </tr>\n",
              "    <tr>\n",
              "      <th>152</th>\n",
              "      <td>2005-05-26 00:41:10</td>\n",
              "      <td>2005-06-03 06:05:10</td>\n",
              "      <td>MORGAN</td>\n",
              "      <td>1</td>\n",
              "      <td>Lethbridge</td>\n",
              "      <td>MIDSUMMER GROUNDHOG</td>\n",
              "      <td>3</td>\n",
              "      <td>4.99</td>\n",
              "      <td>27.99</td>\n",
              "      <td>G</td>\n",
              "      <td>1.663333</td>\n",
              "    </tr>\n",
              "    <tr>\n",
              "      <th>155</th>\n",
              "      <td>2005-05-26 01:15:05</td>\n",
              "      <td>2005-06-01 00:03:05</td>\n",
              "      <td>BARBEE</td>\n",
              "      <td>2</td>\n",
              "      <td>Woodridge</td>\n",
              "      <td>BEHAVIOR RUNAWAY</td>\n",
              "      <td>3</td>\n",
              "      <td>4.99</td>\n",
              "      <td>20.99</td>\n",
              "      <td>PG</td>\n",
              "      <td>1.663333</td>\n",
              "    </tr>\n",
              "    <tr>\n",
              "      <th>163</th>\n",
              "      <td>2005-05-26 02:26:23</td>\n",
              "      <td>2005-06-04 06:36:23</td>\n",
              "      <td>GRAHAM</td>\n",
              "      <td>1</td>\n",
              "      <td>Lethbridge</td>\n",
              "      <td>KISSING DOLLS</td>\n",
              "      <td>3</td>\n",
              "      <td>4.99</td>\n",
              "      <td>9.99</td>\n",
              "      <td>R</td>\n",
              "      <td>1.663333</td>\n",
              "    </tr>\n",
              "  </tbody>\n",
              "</table>\n",
              "</div>\n",
              "      <button class=\"colab-df-convert\" onclick=\"convertToInteractive('df-532abffa-7f45-495b-83ce-cd5398f1a59c')\"\n",
              "              title=\"Convert this dataframe to an interactive table.\"\n",
              "              style=\"display:none;\">\n",
              "        \n",
              "  <svg xmlns=\"http://www.w3.org/2000/svg\" height=\"24px\"viewBox=\"0 0 24 24\"\n",
              "       width=\"24px\">\n",
              "    <path d=\"M0 0h24v24H0V0z\" fill=\"none\"/>\n",
              "    <path d=\"M18.56 5.44l.94 2.06.94-2.06 2.06-.94-2.06-.94-.94-2.06-.94 2.06-2.06.94zm-11 1L8.5 8.5l.94-2.06 2.06-.94-2.06-.94L8.5 2.5l-.94 2.06-2.06.94zm10 10l.94 2.06.94-2.06 2.06-.94-2.06-.94-.94-2.06-.94 2.06-2.06.94z\"/><path d=\"M17.41 7.96l-1.37-1.37c-.4-.4-.92-.59-1.43-.59-.52 0-1.04.2-1.43.59L10.3 9.45l-7.72 7.72c-.78.78-.78 2.05 0 2.83L4 21.41c.39.39.9.59 1.41.59.51 0 1.02-.2 1.41-.59l7.78-7.78 2.81-2.81c.8-.78.8-2.07 0-2.86zM5.41 20L4 18.59l7.72-7.72 1.47 1.35L5.41 20z\"/>\n",
              "  </svg>\n",
              "      </button>\n",
              "      \n",
              "  <style>\n",
              "    .colab-df-container {\n",
              "      display:flex;\n",
              "      flex-wrap:wrap;\n",
              "      gap: 12px;\n",
              "    }\n",
              "\n",
              "    .colab-df-convert {\n",
              "      background-color: #E8F0FE;\n",
              "      border: none;\n",
              "      border-radius: 50%;\n",
              "      cursor: pointer;\n",
              "      display: none;\n",
              "      fill: #1967D2;\n",
              "      height: 32px;\n",
              "      padding: 0 0 0 0;\n",
              "      width: 32px;\n",
              "    }\n",
              "\n",
              "    .colab-df-convert:hover {\n",
              "      background-color: #E2EBFA;\n",
              "      box-shadow: 0px 1px 2px rgba(60, 64, 67, 0.3), 0px 1px 3px 1px rgba(60, 64, 67, 0.15);\n",
              "      fill: #174EA6;\n",
              "    }\n",
              "\n",
              "    [theme=dark] .colab-df-convert {\n",
              "      background-color: #3B4455;\n",
              "      fill: #D2E3FC;\n",
              "    }\n",
              "\n",
              "    [theme=dark] .colab-df-convert:hover {\n",
              "      background-color: #434B5C;\n",
              "      box-shadow: 0px 1px 3px 1px rgba(0, 0, 0, 0.15);\n",
              "      filter: drop-shadow(0px 1px 2px rgba(0, 0, 0, 0.3));\n",
              "      fill: #FFFFFF;\n",
              "    }\n",
              "  </style>\n",
              "\n",
              "      <script>\n",
              "        const buttonEl =\n",
              "          document.querySelector('#df-532abffa-7f45-495b-83ce-cd5398f1a59c button.colab-df-convert');\n",
              "        buttonEl.style.display =\n",
              "          google.colab.kernel.accessAllowed ? 'block' : 'none';\n",
              "\n",
              "        async function convertToInteractive(key) {\n",
              "          const element = document.querySelector('#df-532abffa-7f45-495b-83ce-cd5398f1a59c');\n",
              "          const dataTable =\n",
              "            await google.colab.kernel.invokeFunction('convertToInteractive',\n",
              "                                                     [key], {});\n",
              "          if (!dataTable) return;\n",
              "\n",
              "          const docLinkHtml = 'Like what you see? Visit the ' +\n",
              "            '<a target=\"_blank\" href=https://colab.research.google.com/notebooks/data_table.ipynb>data table notebook</a>'\n",
              "            + ' to learn more about interactive tables.';\n",
              "          element.innerHTML = '';\n",
              "          dataTable['output_type'] = 'display_data';\n",
              "          await google.colab.output.renderOutput(dataTable, element);\n",
              "          const docLink = document.createElement('div');\n",
              "          docLink.innerHTML = docLinkHtml;\n",
              "          element.appendChild(docLink);\n",
              "        }\n",
              "      </script>\n",
              "    </div>\n",
              "  </div>\n",
              "  "
            ]
          },
          "metadata": {},
          "execution_count": 21
        }
      ],
      "source": [
        "df.loc[df['film_daily_rental_rate'] == df['film_daily_rental_rate'].max()].head(10)"
      ]
    },
    {
      "cell_type": "markdown",
      "metadata": {
        "id": "yQnWCvUQ7r85"
      },
      "source": [
        "![green-divider](https://user-images.githubusercontent.com/7065401/52071924-c003ad80-2562-11e9-8297-1c6595f8a7ff.png)\n",
        "\n",
        "### How many rentals were made in Lethbridge city?"
      ]
    },
    {
      "cell_type": "code",
      "execution_count": 26,
      "metadata": {
        "colab": {
          "base_uri": "https://localhost:8080/"
        },
        "id": "0NskfyLs7r85",
        "outputId": "9dac2b67-1241-46aa-c77d-42372058c01f"
      },
      "outputs": [
        {
          "output_type": "execute_result",
          "data": {
            "text/plain": [
              "7923"
            ]
          },
          "metadata": {},
          "execution_count": 26
        }
      ],
      "source": [
        "# your code goes here\n",
        "df.loc[df['rental_store_city'] == 'Lethbridge'].shape[0]"
      ]
    },
    {
      "cell_type": "code",
      "execution_count": 25,
      "metadata": {
        "cell_type": "solution",
        "colab": {
          "base_uri": "https://localhost:8080/"
        },
        "id": "7KJ25DvI7r85",
        "outputId": "48a808fb-c654-436a-8ccb-eddada2853a6"
      },
      "outputs": [
        {
          "output_type": "execute_result",
          "data": {
            "text/plain": [
              "7923"
            ]
          },
          "metadata": {},
          "execution_count": 25
        }
      ],
      "source": [
        "df.loc[df['rental_store_city'] == 'Lethbridge'].shape[0]"
      ]
    },
    {
      "cell_type": "markdown",
      "metadata": {
        "id": "IBrp0iPY7r85"
      },
      "source": [
        "![green-divider](https://user-images.githubusercontent.com/7065401/52071924-c003ad80-2562-11e9-8297-1c6595f8a7ff.png)\n",
        "\n",
        "### How many rentals of each film rating were made in Lethbridge city?\n",
        "\n",
        "Show a <b>bar plot</b> with each film rating count."
      ]
    },
    {
      "cell_type": "code",
      "execution_count": 29,
      "metadata": {
        "colab": {
          "base_uri": "https://localhost:8080/"
        },
        "id": "jHb6npNf7r85",
        "outputId": "d973843f-e5f5-43ca-b71b-5bbb6c17af01"
      },
      "outputs": [
        {
          "output_type": "execute_result",
          "data": {
            "text/plain": [
              "PG-13    1849\n",
              "NC-17    1625\n",
              "R        1537\n",
              "PG       1535\n",
              "G        1377\n",
              "Name: film_rating, dtype: int64"
            ]
          },
          "metadata": {},
          "execution_count": 29
        }
      ],
      "source": [
        "# your code goes here\n",
        "df.loc[df['rental_store_city'] == 'Lethbridge', 'film_rating'].value_counts()"
      ]
    },
    {
      "cell_type": "code",
      "source": [
        "df.loc[df['rental_store_city'] == 'Lethbridge', 'film_rating'].value_counts().plot(kind='bar', figsize=(10,10))"
      ],
      "metadata": {
        "colab": {
          "base_uri": "https://localhost:8080/",
          "height": 629
        },
        "id": "S6yZivM_CVO9",
        "outputId": "c461c0bc-bbcc-45be-e8ca-d7a8f66f79f3"
      },
      "execution_count": 36,
      "outputs": [
        {
          "output_type": "execute_result",
          "data": {
            "text/plain": [
              "<matplotlib.axes._subplots.AxesSubplot at 0x7fababbdee90>"
            ]
          },
          "metadata": {},
          "execution_count": 36
        },
        {
          "output_type": "display_data",
          "data": {
            "text/plain": [
              "<Figure size 720x720 with 1 Axes>"
            ],
            "image/png": "[encoded data removed]"
          },
          "metadata": {
            "needs_background": "light"
          }
        }
      ]
    },
    {
      "cell_type": "code",
      "execution_count": 30,
      "metadata": {
        "cell_type": "solution",
        "colab": {
          "base_uri": "https://localhost:8080/"
        },
        "id": "8TGtDEBk7r86",
        "outputId": "d5ed2c9e-7a89-4cce-a0db-0424fbbcecc4"
      },
      "outputs": [
        {
          "output_type": "execute_result",
          "data": {
            "text/plain": [
              "PG-13    1849\n",
              "NC-17    1625\n",
              "R        1537\n",
              "PG       1535\n",
              "G        1377\n",
              "Name: film_rating, dtype: int64"
            ]
          },
          "metadata": {},
          "execution_count": 30
        }
      ],
      "source": [
        "df.loc[df['rental_store_city'] == 'Lethbridge', 'film_rating'].value_counts()"
      ]
    },
    {
      "cell_type": "code",
      "execution_count": 32,
      "metadata": {
        "cell_type": "solution",
        "colab": {
          "base_uri": "https://localhost:8080/",
          "height": 412
        },
        "id": "xF9GN3H07r86",
        "outputId": "14d41303-c3bf-4a6f-dcd3-8e6acc1fb276"
      },
      "outputs": [
        {
          "output_type": "execute_result",
          "data": {
            "text/plain": [
              "<matplotlib.axes._subplots.AxesSubplot at 0x7fababfb1450>"
            ]
          },
          "metadata": {},
          "execution_count": 32
        },
        {
          "output_type": "display_data",
          "data": {
            "text/plain": [
              "<Figure size 1008x432 with 1 Axes>"
            ],
            "image/png": "[encoded data removed]"
          },
          "metadata": {
            "needs_background": "light"
          }
        }
      ],
      "source": [
        "df.loc[df['rental_store_city'] == 'Lethbridge', 'film_rating'].value_counts().plot(kind='bar', figsize=(14,6))"
      ]
    },
    {
      "cell_type": "markdown",
      "metadata": {
        "id": "PysRPAX77r86"
      },
      "source": [
        "![green-divider](https://user-images.githubusercontent.com/7065401/52071924-c003ad80-2562-11e9-8297-1c6595f8a7ff.png)\n",
        "\n",
        "### How many rentals were made in Woodridge city with rental duration higher than 5 days?"
      ]
    },
    {
      "cell_type": "code",
      "execution_count": 40,
      "metadata": {
        "colab": {
          "base_uri": "https://localhost:8080/"
        },
        "id": "QAnnBFER7r86",
        "outputId": "a193b5e8-24f4-4c1e-fea8-16366c3cad5c"
      },
      "outputs": [
        {
          "output_type": "execute_result",
          "data": {
            "text/plain": [
              "3186"
            ]
          },
          "metadata": {},
          "execution_count": 40
        }
      ],
      "source": [
        "# your code goes here\n",
        "df.loc[(df['rental_store_city'] == 'Woodridge') & (df['film_rental_duration'] > 5)].shape[0]"
      ]
    },
    {
      "cell_type": "code",
      "execution_count": 41,
      "metadata": {
        "cell_type": "solution",
        "colab": {
          "base_uri": "https://localhost:8080/"
        },
        "id": "4T7V0GaV7r86",
        "outputId": "5c07a448-48bd-4b65-9fa8-de115ba9e443"
      },
      "outputs": [
        {
          "output_type": "execute_result",
          "data": {
            "text/plain": [
              "3186"
            ]
          },
          "metadata": {},
          "execution_count": 41
        }
      ],
      "source": [
        "df.loc[(df['rental_store_city'] == 'Woodridge') & (df['film_rental_duration'] > 5)].shape[0]"
      ]
    },
    {
      "cell_type": "markdown",
      "metadata": {
        "id": "v6DJSQSx7r86"
      },
      "source": [
        "![green-divider](https://user-images.githubusercontent.com/7065401/52071924-c003ad80-2562-11e9-8297-1c6595f8a7ff.png)\n",
        "\n",
        "### How many rentals were made at the store with id 2 or with replacement cost lower than 10.99 USD?"
      ]
    },
    {
      "cell_type": "code",
      "execution_count": 50,
      "metadata": {
        "colab": {
          "base_uri": "https://localhost:8080/"
        },
        "id": "ZoI-CezR7r86",
        "outputId": "9467ccdb-cdc2-492c-a27c-cf1b2d1bb848"
      },
      "outputs": [
        {
          "output_type": "execute_result",
          "data": {
            "text/plain": [
              "8444"
            ]
          },
          "metadata": {},
          "execution_count": 50
        }
      ],
      "source": [
        "# your code goes here\n",
        "df.loc[(df['store_id'] == 2) | (df['film_replacement_cost'] < 10.99)].shape[0]"
      ]
    },
    {
      "cell_type": "code",
      "execution_count": 44,
      "metadata": {
        "cell_type": "solution",
        "colab": {
          "base_uri": "https://localhost:8080/"
        },
        "id": "MS0ESy3C7r86",
        "outputId": "5f650299-75f3-4a95-db7d-066e96ccffd0"
      },
      "outputs": [
        {
          "output_type": "execute_result",
          "data": {
            "text/plain": [
              "8444"
            ]
          },
          "metadata": {},
          "execution_count": 44
        }
      ],
      "source": [
        "df.loc[(df['store_id'] == 2) | (df['film_replacement_cost'] < 10.99)].shape[0]"
      ]
    },
    {
      "cell_type": "markdown",
      "metadata": {
        "id": "Ow4Jv5sk7r87"
      },
      "source": [
        "![purple-divider](https://user-images.githubusercontent.com/7065401/52071927-c1cd7100-2562-11e9-908a-dde91ba14e59.png)"
      ]
    }
  ],
  "metadata": {
    "kernelspec": {
      "display_name": "Python 3",
      "language": "python",
      "name": "python3"
    },
    "language_info": {
      "codemirror_mode": {
        "name": "ipython",
        "version": 3
      },
      "file_extension": ".py",
      "mimetype": "text/x-python",
      "name": "python",
      "nbconvert_exporter": "python",
      "pygments_lexer": "ipython3",
      "version": "3.6.8"
    },
    "colab": {
      "name": "Exercises_2.ipynb",
      "provenance": [],
      "include_colab_link": true
    }
  },
  "nbformat": 4,
  "nbformat_minor": 0
}